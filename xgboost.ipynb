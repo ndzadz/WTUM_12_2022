{
 "cells": [
  {
   "cell_type": "code",
   "execution_count": 1,
   "metadata": {},
   "outputs": [],
   "source": [
    "import numpy as np\n",
    "import pandas as pd\n",
    "import matplotlib.pyplot as plt\n",
    "import statsmodels\n",
    "import statsmodels.api as sm\n",
    "import statsmodels.formula.api as smf\n",
    "import datetime as dt\n",
    "import scipy.signal as ss\n",
    "import xgboost as xgb"
   ]
  },
  {
   "cell_type": "code",
   "execution_count": 2,
   "metadata": {},
   "outputs": [],
   "source": [
    "from sklearn.metrics import mean_squared_error"
   ]
  },
  {
   "cell_type": "code",
   "execution_count": 3,
   "metadata": {},
   "outputs": [],
   "source": [
    "from sklearn.preprocessing import OneHotEncoder"
   ]
  },
  {
   "cell_type": "code",
   "execution_count": 164,
   "metadata": {},
   "outputs": [
    {
     "name": "stderr",
     "output_type": "stream",
     "text": [
      "C:\\Users\\ndzad\\anaconda3\\lib\\site-packages\\numpy\\lib\\arraysetops.py:583: FutureWarning: elementwise comparison failed; returning scalar instead, but in the future will perform elementwise comparison\n",
      "  mask |= (ar1 == a)\n"
     ]
    }
   ],
   "source": [
    "holidays_events = pd.read_csv(\"https://www.dropbox.com/s/bxyamlpevkiwwoq/holidays_events.csv?dl=1\")\n",
    "holidays_events[\"holiday_type\"] = holidays_events[\"type\"]\n",
    "holidays_events.drop([\"type\"],axis=1,inplace=True)\n",
    "oil = pd.read_csv(\"https://www.dropbox.com/s/l6ln0ztl4m0pw3a/oil.csv?dl=1\",parse_dates=['date'],index_col='date')\n",
    "oil2 = pd.read_csv(\"https://www.dropbox.com/s/l6ln0ztl4m0pw3a/oil.csv?dl=1\")\n",
    "sample_submission = pd.read_csv(\"https://www.dropbox.com/s/68jjl61x6u3klos/sample_submission.csv?dl=1\")\n",
    "stores = pd.read_csv(\"https://www.dropbox.com/s/lcxn6r9bs2exguq/stores.csv?dl=1\")\n",
    "test = pd.read_csv(\"https://www.dropbox.com/s/cvdo1gn7r5lu2uz/test.csv?dl=1\",index_col='id')\n",
    "train = pd.read_csv(\"https://www.dropbox.com/s/s8p2b5awnuqfk0d/train.csv?dl=1\",index_col='id')\n",
    "transactions = pd.read_csv(\"https://www.dropbox.com/s/92fij9bcwt0e0cj/transactions.csv?dl=1\")"
   ]
  },
  {
   "cell_type": "code",
   "execution_count": 180,
   "metadata": {},
   "outputs": [],
   "source": [
    "def przygotowanie_danych_rodzinnych(df, family):\n",
    "    #Łaczymy z pozostałymi zbiorami\n",
    "    df = df.merge(stores,how=\"left\",left_on=['store_nbr'],right_on=['store_nbr'])\n",
    "    df = df.merge(transactions,how=\"left\",left_on=['date','store_nbr'],right_on=['date','store_nbr'])\n",
    "    df = df.merge(holidays_events,how=\"left\",left_on=['date'],right_on=['date'])\n",
    "    #Wybieramy family ze zbioru traningowego\n",
    "    df_fam = df.loc[(df['family']==family)]\n",
    "    #Średnia po sales\n",
    "    #df_fam.groupby(['date'])['sales'].mean().to_frame()\n",
    "\n",
    "    df_fam['dayofweek'] = pd.DatetimeIndex(df_fam['date']).dayofweek + 1\n",
    "    df_fam['month'] = pd.to_datetime(df_fam['date']).dt.month\n",
    "    #df_fam['year'] = pd.to_datetime(df_fam['date']).dt.year\n",
    "    #One Hot Encoding\n",
    "    final_df_fam = pd.get_dummies(df_fam,columns=[\"dayofweek\",\"month\",\"locale\",\"store_nbr\",\"city\", \"state\", \"type\", \"cluster\",\"locale_name\", \"holiday_type\"],prefix=[\"dayofweek\",\"month\",\"locale\",\"store_nbr\",\"city\", \"state\", \"type\", \"cluster\",\"locale_name\", \"holiday_type\"])\n",
    "    \n",
    "    # encoder = OneHotEncoder(handle_unknown='ignore')\n",
    "    # #locale\n",
    "    # encoder_df = pd.DataFrame(encoder.fit_transform(df_fam_merged[['locale']]).toarray())\n",
    "    # final_df_fam = df_fam_merged.join(encoder_df)\n",
    "    # final_df_fam.drop('locale', axis=1, inplace=True)\n",
    "    # final_df_fam.rename(columns = {0:'isLocal',1:'isNational',2:'isRegional',3:'isNormalDay'}, inplace = True)\n",
    "    # #day_of_week\n",
    "    # encoder = OneHotEncoder(handle_unknown='ignore')\n",
    "    # encoder_df = pd.DataFrame(encoder.fit_transform(df_fam_merged[['day_of_week']]).toarray())\n",
    "    # final_df_fam = df_fam_merged.join(encoder_df)\n",
    "    # final_df_fam.drop('day_of_week', axis=1, inplace=True)\n",
    "    #final_df_fam.rename(columns = {0:'isLocal',1:'isNational',2:'isRegional',3:'isNormalDay'}, inplace = True)  \n",
    "\n",
    "    #Dodanie oil\n",
    "    df_fam_oil = final_df_fam.merge(oil2,how=\"left\",left_on=['date'],right_on=['date'])\n",
    "    #Interpolacja braków\n",
    "    df_fam_oil.interpolate(method ='linear', limit_direction ='backward', inplace=True)\n",
    "    df_fam_oil.drop([\"description\",\"transferred\"],axis=1,inplace=True)\n",
    "    return(df_fam_oil)"
   ]
  },
  {
   "cell_type": "code",
   "execution_count": 181,
   "metadata": {},
   "outputs": [],
   "source": [
    "def przygotowanie_danych_sklepowych(df, store_nbr):\n",
    "    #Łaczymy z pozostałymi zbiorami\n",
    "    df = df.merge(stores,how=\"left\",left_on=['store_nbr'],right_on=['store_nbr'])\n",
    "    df = df.merge(transactions,how=\"left\",left_on=['date','store_nbr'],right_on=['date','store_nbr'])\n",
    "    df = df.merge(holidays_events,how=\"left\",left_on=['date'],right_on=['date'])\n",
    "    #Wybieramy store_nbr ze zbioru traningowego\n",
    "    df_fam = df.loc[(df['store_nbr']==store_nbr)]\n",
    "    #Średnia po sales\n",
    "    #df_fam.groupby(['date'])['sales'].mean().to_frame()\n",
    "\n",
    "    df_fam['dayofweek'] = pd.DatetimeIndex(df_fam['date']).dayofweek + 1\n",
    "    df_fam['month'] = pd.to_datetime(df_fam['date']).dt.month\n",
    "    #df_fam['year'] = pd.to_datetime(df_fam['date']).dt.year\n",
    "    #One Hot Encoding\n",
    "    final_df_fam = pd.get_dummies(df_fam,columns=[\"dayofweek\",\"month\",\"locale\",\"family\",\"city\", \"state\", \"type\", \"cluster\",\"locale_name\", \"holiday_type\"],prefix=[\"dayofweek\",\"month\",\"locale\",\"family\",\"city\", \"state\", \"type\", \"cluster\",\"locale_name\", \"holiday_type\"])\n",
    "    \n",
    "    # encoder = OneHotEncoder(handle_unknown='ignore')\n",
    "    # #locale\n",
    "    # encoder_df = pd.DataFrame(encoder.fit_transform(df_fam_merged[['locale']]).toarray())\n",
    "    # final_df_fam = df_fam_merged.join(encoder_df)\n",
    "    # final_df_fam.drop('locale', axis=1, inplace=True)\n",
    "    # final_df_fam.rename(columns = {0:'isLocal',1:'isNational',2:'isRegional',3:'isNormalDay'}, inplace = True)\n",
    "    # #day_of_week\n",
    "    # encoder = OneHotEncoder(handle_unknown='ignore')\n",
    "    # encoder_df = pd.DataFrame(encoder.fit_transform(df_fam_merged[['day_of_week']]).toarray())\n",
    "    # final_df_fam = df_fam_merged.join(encoder_df)\n",
    "    # final_df_fam.drop('day_of_week', axis=1, inplace=True)\n",
    "    #final_df_fam.rename(columns = {0:'isLocal',1:'isNational',2:'isRegional',3:'isNormalDay'}, inplace = True)  \n",
    "\n",
    "    #Dodanie oil\n",
    "    df_fam_oil = final_df_fam.merge(oil2,how=\"left\",left_on=['date'],right_on=['date'])\n",
    "    #Interpolacja braków\n",
    "    df_fam_oil.interpolate(method ='linear', limit_direction ='backward', inplace=True)\n",
    "    df_fam_oil.drop([\"description\",\"transferred\"],axis=1,inplace=True)\n",
    "    return(df_fam_oil)"
   ]
  },
  {
   "cell_type": "code",
   "execution_count": 90,
   "metadata": {},
   "outputs": [],
   "source": [
    "def podzial(df, date):\n",
    "    train = df.loc[(df['date']<date)].drop([\"date\"],axis=1)\n",
    "    test = df.loc[(df['date']>=date)].reset_index(drop=True).drop([\"date\"],axis=1)\n",
    "    return(train,test)"
   ]
  },
  {
   "cell_type": "code",
   "execution_count": 143,
   "metadata": {},
   "outputs": [],
   "source": [
    "def predykcja_sklep(df1,df2,type):\n",
    "    df3 = df1.drop([type],axis=1).copy()\n",
    "    df4 = df2.drop([type],axis=1).copy()\n",
    "    X = df3.drop(['sales'],axis=1)\n",
    "    Y = df3['sales']\n",
    "    #print(X.head())\n",
    "    #print(Y.head())\n",
    "    df4_drop = df4.drop(['sales'],axis=1)\n",
    "    model = xgb.XGBRFRegressor().fit(X,Y)\n",
    "    Y_pred = model.predict(df4_drop)\n",
    "    Y_df4 = df4['sales']\n",
    "    print(mean_squared_error(Y_df4,Y_pred))\n",
    "    return(model)"
   ]
  },
  {
   "cell_type": "code",
   "execution_count": 153,
   "metadata": {},
   "outputs": [],
   "source": [
    "def predykcja_sklep_OLS(df1,df2,type):\n",
    "    df3 = df1.drop([type],axis=1).copy()\n",
    "    df4 = df2.drop([type],axis=1).copy()\n",
    "    X = df3.drop(['sales'],axis=1)\n",
    "    Y = df3['sales']\n",
    "    #print(X.head())\n",
    "    #print(Y.head())\n",
    "    df4_drop = df4.drop(['sales'],axis=1)\n",
    "    model = sm.OLS(Y,X).fit()\n",
    "    Y_pred = model.predict(df4_drop)\n",
    "    Y_df4 = df4['sales']\n",
    "    print(mean_squared_error(Y_df4,Y_pred))\n",
    "\n",
    "    return(model)"
   ]
  },
  {
   "cell_type": "code",
   "execution_count": 186,
   "metadata": {},
   "outputs": [
    {
     "name": "stderr",
     "output_type": "stream",
     "text": [
      "C:\\Users\\ndzad\\AppData\\Local\\Temp/ipykernel_19640/1555495844.py:11: SettingWithCopyWarning: \n",
      "A value is trying to be set on a copy of a slice from a DataFrame.\n",
      "Try using .loc[row_indexer,col_indexer] = value instead\n",
      "\n",
      "See the caveats in the documentation: https://pandas.pydata.org/pandas-docs/stable/user_guide/indexing.html#returning-a-view-versus-a-copy\n",
      "  df_fam['dayofweek'] = pd.DatetimeIndex(df_fam['date']).dayofweek + 1\n",
      "C:\\Users\\ndzad\\AppData\\Local\\Temp/ipykernel_19640/1555495844.py:12: SettingWithCopyWarning: \n",
      "A value is trying to be set on a copy of a slice from a DataFrame.\n",
      "Try using .loc[row_indexer,col_indexer] = value instead\n",
      "\n",
      "See the caveats in the documentation: https://pandas.pydata.org/pandas-docs/stable/user_guide/indexing.html#returning-a-view-versus-a-copy\n",
      "  df_fam['month'] = pd.to_datetime(df_fam['date']).dt.month\n"
     ]
    }
   ],
   "source": [
    "(train2,test2) = podzial(przygotowanie_danych_rodzinnych(train,'AUTOMOTIVE'),'2016-06-01')"
   ]
  },
  {
   "cell_type": "code",
   "execution_count": 171,
   "metadata": {},
   "outputs": [
    {
     "name": "stderr",
     "output_type": "stream",
     "text": [
      "C:\\Users\\ndzad\\AppData\\Local\\Temp/ipykernel_19640/3469361090.py:11: SettingWithCopyWarning: \n",
      "A value is trying to be set on a copy of a slice from a DataFrame.\n",
      "Try using .loc[row_indexer,col_indexer] = value instead\n",
      "\n",
      "See the caveats in the documentation: https://pandas.pydata.org/pandas-docs/stable/user_guide/indexing.html#returning-a-view-versus-a-copy\n",
      "  df_fam['dayofweek'] = pd.DatetimeIndex(df_fam['date']).dayofweek + 1\n",
      "C:\\Users\\ndzad\\AppData\\Local\\Temp/ipykernel_19640/3469361090.py:12: SettingWithCopyWarning: \n",
      "A value is trying to be set on a copy of a slice from a DataFrame.\n",
      "Try using .loc[row_indexer,col_indexer] = value instead\n",
      "\n",
      "See the caveats in the documentation: https://pandas.pydata.org/pandas-docs/stable/user_guide/indexing.html#returning-a-view-versus-a-copy\n",
      "  df_fam['month'] = pd.to_datetime(df_fam['date']).dt.month\n",
      "C:\\Users\\ndzad\\AppData\\Local\\Temp/ipykernel_19640/3469361090.py:13: SettingWithCopyWarning: \n",
      "A value is trying to be set on a copy of a slice from a DataFrame.\n",
      "Try using .loc[row_indexer,col_indexer] = value instead\n",
      "\n",
      "See the caveats in the documentation: https://pandas.pydata.org/pandas-docs/stable/user_guide/indexing.html#returning-a-view-versus-a-copy\n",
      "  df_fam['year'] = pd.to_datetime(df_fam['date']).dt.year\n"
     ]
    }
   ],
   "source": [
    "(train3,test3) = podzial(przygotowanie_danych_sklepowych(train,1),'2016-06-01')"
   ]
  },
  {
   "cell_type": "code",
   "execution_count": 187,
   "metadata": {},
   "outputs": [
    {
     "name": "stdout",
     "output_type": "stream",
     "text": [
      "22.706722578518193\n"
     ]
    }
   ],
   "source": [
    "model_xgb = predykcja_sklep(train2,test2,'family')"
   ]
  },
  {
   "cell_type": "code",
   "execution_count": 133,
   "metadata": {},
   "outputs": [
    {
     "data": {
      "text/plain": [
       "<AxesSubplot:title={'center':'Feature importance'}, xlabel='F score', ylabel='Features'>"
      ]
     },
     "execution_count": 133,
     "metadata": {},
     "output_type": "execute_result"
    },
    {
     "data": {
      "image/png": "[encoded data removed]",
      "text/plain": [
       "<Figure size 432x288 with 1 Axes>"
      ]
     },
     "metadata": {
      "needs_background": "light"
     },
     "output_type": "display_data"
    }
   ],
   "source": [
    "xgb.plot_importance(model_xgb)"
   ]
  },
  {
   "cell_type": "code",
   "execution_count": 173,
   "metadata": {},
   "outputs": [
    {
     "name": "stdout",
     "output_type": "stream",
     "text": [
      "23.952055095436368\n"
     ]
    }
   ],
   "source": [
    "model_ols = predykcja_sklep_OLS(train2,test2,'family')"
   ]
  },
  {
   "cell_type": "code",
   "execution_count": 174,
   "metadata": {},
   "outputs": [
    {
     "data": {
      "text/html": [
       "<div>\n",
       "<style scoped>\n",
       "    .dataframe tbody tr th:only-of-type {\n",
       "        vertical-align: middle;\n",
       "    }\n",
       "\n",
       "    .dataframe tbody tr th {\n",
       "        vertical-align: top;\n",
       "    }\n",
       "\n",
       "    .dataframe thead th {\n",
       "        text-align: right;\n",
       "    }\n",
       "</style>\n",
       "<table border=\"1\" class=\"dataframe\">\n",
       "  <thead>\n",
       "    <tr style=\"text-align: right;\">\n",
       "      <th></th>\n",
       "      <th>date</th>\n",
       "      <th>store_nbr</th>\n",
       "      <th>family</th>\n",
       "      <th>onpromotion</th>\n",
       "    </tr>\n",
       "    <tr>\n",
       "      <th>id</th>\n",
       "      <th></th>\n",
       "      <th></th>\n",
       "      <th></th>\n",
       "      <th></th>\n",
       "    </tr>\n",
       "  </thead>\n",
       "  <tbody>\n",
       "    <tr>\n",
       "      <th>3000888</th>\n",
       "      <td>2017-08-16</td>\n",
       "      <td>1</td>\n",
       "      <td>AUTOMOTIVE</td>\n",
       "      <td>0</td>\n",
       "    </tr>\n",
       "    <tr>\n",
       "      <th>3000889</th>\n",
       "      <td>2017-08-16</td>\n",
       "      <td>1</td>\n",
       "      <td>BABY CARE</td>\n",
       "      <td>0</td>\n",
       "    </tr>\n",
       "    <tr>\n",
       "      <th>3000890</th>\n",
       "      <td>2017-08-16</td>\n",
       "      <td>1</td>\n",
       "      <td>BEAUTY</td>\n",
       "      <td>2</td>\n",
       "    </tr>\n",
       "    <tr>\n",
       "      <th>3000891</th>\n",
       "      <td>2017-08-16</td>\n",
       "      <td>1</td>\n",
       "      <td>BEVERAGES</td>\n",
       "      <td>20</td>\n",
       "    </tr>\n",
       "    <tr>\n",
       "      <th>3000892</th>\n",
       "      <td>2017-08-16</td>\n",
       "      <td>1</td>\n",
       "      <td>BOOKS</td>\n",
       "      <td>0</td>\n",
       "    </tr>\n",
       "    <tr>\n",
       "      <th>...</th>\n",
       "      <td>...</td>\n",
       "      <td>...</td>\n",
       "      <td>...</td>\n",
       "      <td>...</td>\n",
       "    </tr>\n",
       "    <tr>\n",
       "      <th>3029395</th>\n",
       "      <td>2017-08-31</td>\n",
       "      <td>9</td>\n",
       "      <td>POULTRY</td>\n",
       "      <td>1</td>\n",
       "    </tr>\n",
       "    <tr>\n",
       "      <th>3029396</th>\n",
       "      <td>2017-08-31</td>\n",
       "      <td>9</td>\n",
       "      <td>PREPARED FOODS</td>\n",
       "      <td>0</td>\n",
       "    </tr>\n",
       "    <tr>\n",
       "      <th>3029397</th>\n",
       "      <td>2017-08-31</td>\n",
       "      <td>9</td>\n",
       "      <td>PRODUCE</td>\n",
       "      <td>1</td>\n",
       "    </tr>\n",
       "    <tr>\n",
       "      <th>3029398</th>\n",
       "      <td>2017-08-31</td>\n",
       "      <td>9</td>\n",
       "      <td>SCHOOL AND OFFICE SUPPLIES</td>\n",
       "      <td>9</td>\n",
       "    </tr>\n",
       "    <tr>\n",
       "      <th>3029399</th>\n",
       "      <td>2017-08-31</td>\n",
       "      <td>9</td>\n",
       "      <td>SEAFOOD</td>\n",
       "      <td>0</td>\n",
       "    </tr>\n",
       "  </tbody>\n",
       "</table>\n",
       "<p>28512 rows × 4 columns</p>\n",
       "</div>"
      ],
      "text/plain": [
       "               date  store_nbr                      family  onpromotion\n",
       "id                                                                     \n",
       "3000888  2017-08-16          1                  AUTOMOTIVE            0\n",
       "3000889  2017-08-16          1                   BABY CARE            0\n",
       "3000890  2017-08-16          1                      BEAUTY            2\n",
       "3000891  2017-08-16          1                   BEVERAGES           20\n",
       "3000892  2017-08-16          1                       BOOKS            0\n",
       "...             ...        ...                         ...          ...\n",
       "3029395  2017-08-31          9                     POULTRY            1\n",
       "3029396  2017-08-31          9              PREPARED FOODS            0\n",
       "3029397  2017-08-31          9                     PRODUCE            1\n",
       "3029398  2017-08-31          9  SCHOOL AND OFFICE SUPPLIES            9\n",
       "3029399  2017-08-31          9                     SEAFOOD            0\n",
       "\n",
       "[28512 rows x 4 columns]"
      ]
     },
     "execution_count": 174,
     "metadata": {},
     "output_type": "execute_result"
    }
   ],
   "source": [
    "test"
   ]
  },
  {
   "cell_type": "code",
   "execution_count": 182,
   "metadata": {},
   "outputs": [
    {
     "name": "stderr",
     "output_type": "stream",
     "text": [
      "C:\\Users\\ndzad\\AppData\\Local\\Temp/ipykernel_19640/1555495844.py:11: SettingWithCopyWarning: \n",
      "A value is trying to be set on a copy of a slice from a DataFrame.\n",
      "Try using .loc[row_indexer,col_indexer] = value instead\n",
      "\n",
      "See the caveats in the documentation: https://pandas.pydata.org/pandas-docs/stable/user_guide/indexing.html#returning-a-view-versus-a-copy\n",
      "  df_fam['dayofweek'] = pd.DatetimeIndex(df_fam['date']).dayofweek + 1\n",
      "C:\\Users\\ndzad\\AppData\\Local\\Temp/ipykernel_19640/1555495844.py:12: SettingWithCopyWarning: \n",
      "A value is trying to be set on a copy of a slice from a DataFrame.\n",
      "Try using .loc[row_indexer,col_indexer] = value instead\n",
      "\n",
      "See the caveats in the documentation: https://pandas.pydata.org/pandas-docs/stable/user_guide/indexing.html#returning-a-view-versus-a-copy\n",
      "  df_fam['month'] = pd.to_datetime(df_fam['date']).dt.month\n"
     ]
    }
   ],
   "source": [
    "test_t2 = przygotowanie_danych_rodzinnych(test,\"AUTOMOTIVE\")"
   ]
  },
  {
   "cell_type": "code",
   "execution_count": 203,
   "metadata": {},
   "outputs": [
    {
     "ename": "KeyError",
     "evalue": "\"['date'] not found in axis\"",
     "output_type": "error",
     "traceback": [
      "\u001b[1;31m---------------------------------------------------------------------------\u001b[0m",
      "\u001b[1;31mKeyError\u001b[0m                                  Traceback (most recent call last)",
      "\u001b[1;32m~\\AppData\\Local\\Temp/ipykernel_19640/2426571643.py\u001b[0m in \u001b[0;36m<module>\u001b[1;34m\u001b[0m\n\u001b[1;32m----> 1\u001b[1;33m \u001b[0mtrain2\u001b[0m\u001b[1;33m.\u001b[0m\u001b[0mdrop\u001b[0m\u001b[1;33m(\u001b[0m\u001b[1;33m[\u001b[0m\u001b[1;34m'date'\u001b[0m\u001b[1;33m]\u001b[0m\u001b[1;33m,\u001b[0m\u001b[0minplace\u001b[0m\u001b[1;33m=\u001b[0m\u001b[1;32mTrue\u001b[0m\u001b[1;33m)\u001b[0m\u001b[1;33m\u001b[0m\u001b[1;33m\u001b[0m\u001b[0m\n\u001b[0m",
      "\u001b[1;32m~\\anaconda3\\lib\\site-packages\\pandas\\util\\_decorators.py\u001b[0m in \u001b[0;36mwrapper\u001b[1;34m(*args, **kwargs)\u001b[0m\n\u001b[0;32m    309\u001b[0m                     \u001b[0mstacklevel\u001b[0m\u001b[1;33m=\u001b[0m\u001b[0mstacklevel\u001b[0m\u001b[1;33m,\u001b[0m\u001b[1;33m\u001b[0m\u001b[1;33m\u001b[0m\u001b[0m\n\u001b[0;32m    310\u001b[0m                 )\n\u001b[1;32m--> 311\u001b[1;33m             \u001b[1;32mreturn\u001b[0m \u001b[0mfunc\u001b[0m\u001b[1;33m(\u001b[0m\u001b[1;33m*\u001b[0m\u001b[0margs\u001b[0m\u001b[1;33m,\u001b[0m \u001b[1;33m**\u001b[0m\u001b[0mkwargs\u001b[0m\u001b[1;33m)\u001b[0m\u001b[1;33m\u001b[0m\u001b[1;33m\u001b[0m\u001b[0m\n\u001b[0m\u001b[0;32m    312\u001b[0m \u001b[1;33m\u001b[0m\u001b[0m\n\u001b[0;32m    313\u001b[0m         \u001b[1;32mreturn\u001b[0m \u001b[0mwrapper\u001b[0m\u001b[1;33m\u001b[0m\u001b[1;33m\u001b[0m\u001b[0m\n",
      "\u001b[1;32m~\\anaconda3\\lib\\site-packages\\pandas\\core\\frame.py\u001b[0m in \u001b[0;36mdrop\u001b[1;34m(self, labels, axis, index, columns, level, inplace, errors)\u001b[0m\n\u001b[0;32m   4904\u001b[0m                 \u001b[0mweight\u001b[0m  \u001b[1;36m1.0\u001b[0m     \u001b[1;36m0.8\u001b[0m\u001b[1;33m\u001b[0m\u001b[1;33m\u001b[0m\u001b[0m\n\u001b[0;32m   4905\u001b[0m         \"\"\"\n\u001b[1;32m-> 4906\u001b[1;33m         return super().drop(\n\u001b[0m\u001b[0;32m   4907\u001b[0m             \u001b[0mlabels\u001b[0m\u001b[1;33m=\u001b[0m\u001b[0mlabels\u001b[0m\u001b[1;33m,\u001b[0m\u001b[1;33m\u001b[0m\u001b[1;33m\u001b[0m\u001b[0m\n\u001b[0;32m   4908\u001b[0m             \u001b[0maxis\u001b[0m\u001b[1;33m=\u001b[0m\u001b[0maxis\u001b[0m\u001b[1;33m,\u001b[0m\u001b[1;33m\u001b[0m\u001b[1;33m\u001b[0m\u001b[0m\n",
      "\u001b[1;32m~\\anaconda3\\lib\\site-packages\\pandas\\core\\generic.py\u001b[0m in \u001b[0;36mdrop\u001b[1;34m(self, labels, axis, index, columns, level, inplace, errors)\u001b[0m\n\u001b[0;32m   4148\u001b[0m         \u001b[1;32mfor\u001b[0m \u001b[0maxis\u001b[0m\u001b[1;33m,\u001b[0m \u001b[0mlabels\u001b[0m \u001b[1;32min\u001b[0m \u001b[0maxes\u001b[0m\u001b[1;33m.\u001b[0m\u001b[0mitems\u001b[0m\u001b[1;33m(\u001b[0m\u001b[1;33m)\u001b[0m\u001b[1;33m:\u001b[0m\u001b[1;33m\u001b[0m\u001b[1;33m\u001b[0m\u001b[0m\n\u001b[0;32m   4149\u001b[0m             \u001b[1;32mif\u001b[0m \u001b[0mlabels\u001b[0m \u001b[1;32mis\u001b[0m \u001b[1;32mnot\u001b[0m \u001b[1;32mNone\u001b[0m\u001b[1;33m:\u001b[0m\u001b[1;33m\u001b[0m\u001b[1;33m\u001b[0m\u001b[0m\n\u001b[1;32m-> 4150\u001b[1;33m                 \u001b[0mobj\u001b[0m \u001b[1;33m=\u001b[0m \u001b[0mobj\u001b[0m\u001b[1;33m.\u001b[0m\u001b[0m_drop_axis\u001b[0m\u001b[1;33m(\u001b[0m\u001b[0mlabels\u001b[0m\u001b[1;33m,\u001b[0m \u001b[0maxis\u001b[0m\u001b[1;33m,\u001b[0m \u001b[0mlevel\u001b[0m\u001b[1;33m=\u001b[0m\u001b[0mlevel\u001b[0m\u001b[1;33m,\u001b[0m \u001b[0merrors\u001b[0m\u001b[1;33m=\u001b[0m\u001b[0merrors\u001b[0m\u001b[1;33m)\u001b[0m\u001b[1;33m\u001b[0m\u001b[1;33m\u001b[0m\u001b[0m\n\u001b[0m\u001b[0;32m   4151\u001b[0m \u001b[1;33m\u001b[0m\u001b[0m\n\u001b[0;32m   4152\u001b[0m         \u001b[1;32mif\u001b[0m \u001b[0minplace\u001b[0m\u001b[1;33m:\u001b[0m\u001b[1;33m\u001b[0m\u001b[1;33m\u001b[0m\u001b[0m\n",
      "\u001b[1;32m~\\anaconda3\\lib\\site-packages\\pandas\\core\\generic.py\u001b[0m in \u001b[0;36m_drop_axis\u001b[1;34m(self, labels, axis, level, errors)\u001b[0m\n\u001b[0;32m   4183\u001b[0m                 \u001b[0mnew_axis\u001b[0m \u001b[1;33m=\u001b[0m \u001b[0maxis\u001b[0m\u001b[1;33m.\u001b[0m\u001b[0mdrop\u001b[0m\u001b[1;33m(\u001b[0m\u001b[0mlabels\u001b[0m\u001b[1;33m,\u001b[0m \u001b[0mlevel\u001b[0m\u001b[1;33m=\u001b[0m\u001b[0mlevel\u001b[0m\u001b[1;33m,\u001b[0m \u001b[0merrors\u001b[0m\u001b[1;33m=\u001b[0m\u001b[0merrors\u001b[0m\u001b[1;33m)\u001b[0m\u001b[1;33m\u001b[0m\u001b[1;33m\u001b[0m\u001b[0m\n\u001b[0;32m   4184\u001b[0m             \u001b[1;32melse\u001b[0m\u001b[1;33m:\u001b[0m\u001b[1;33m\u001b[0m\u001b[1;33m\u001b[0m\u001b[0m\n\u001b[1;32m-> 4185\u001b[1;33m                 \u001b[0mnew_axis\u001b[0m \u001b[1;33m=\u001b[0m \u001b[0maxis\u001b[0m\u001b[1;33m.\u001b[0m\u001b[0mdrop\u001b[0m\u001b[1;33m(\u001b[0m\u001b[0mlabels\u001b[0m\u001b[1;33m,\u001b[0m \u001b[0merrors\u001b[0m\u001b[1;33m=\u001b[0m\u001b[0merrors\u001b[0m\u001b[1;33m)\u001b[0m\u001b[1;33m\u001b[0m\u001b[1;33m\u001b[0m\u001b[0m\n\u001b[0m\u001b[0;32m   4186\u001b[0m             \u001b[0mresult\u001b[0m \u001b[1;33m=\u001b[0m \u001b[0mself\u001b[0m\u001b[1;33m.\u001b[0m\u001b[0mreindex\u001b[0m\u001b[1;33m(\u001b[0m\u001b[1;33m**\u001b[0m\u001b[1;33m{\u001b[0m\u001b[0maxis_name\u001b[0m\u001b[1;33m:\u001b[0m \u001b[0mnew_axis\u001b[0m\u001b[1;33m}\u001b[0m\u001b[1;33m)\u001b[0m\u001b[1;33m\u001b[0m\u001b[1;33m\u001b[0m\u001b[0m\n\u001b[0;32m   4187\u001b[0m \u001b[1;33m\u001b[0m\u001b[0m\n",
      "\u001b[1;32m~\\anaconda3\\lib\\site-packages\\pandas\\core\\indexes\\base.py\u001b[0m in \u001b[0;36mdrop\u001b[1;34m(self, labels, errors)\u001b[0m\n\u001b[0;32m   6015\u001b[0m         \u001b[1;32mif\u001b[0m \u001b[0mmask\u001b[0m\u001b[1;33m.\u001b[0m\u001b[0many\u001b[0m\u001b[1;33m(\u001b[0m\u001b[1;33m)\u001b[0m\u001b[1;33m:\u001b[0m\u001b[1;33m\u001b[0m\u001b[1;33m\u001b[0m\u001b[0m\n\u001b[0;32m   6016\u001b[0m             \u001b[1;32mif\u001b[0m \u001b[0merrors\u001b[0m \u001b[1;33m!=\u001b[0m \u001b[1;34m\"ignore\"\u001b[0m\u001b[1;33m:\u001b[0m\u001b[1;33m\u001b[0m\u001b[1;33m\u001b[0m\u001b[0m\n\u001b[1;32m-> 6017\u001b[1;33m                 \u001b[1;32mraise\u001b[0m \u001b[0mKeyError\u001b[0m\u001b[1;33m(\u001b[0m\u001b[1;34mf\"{labels[mask]} not found in axis\"\u001b[0m\u001b[1;33m)\u001b[0m\u001b[1;33m\u001b[0m\u001b[1;33m\u001b[0m\u001b[0m\n\u001b[0m\u001b[0;32m   6018\u001b[0m             \u001b[0mindexer\u001b[0m \u001b[1;33m=\u001b[0m \u001b[0mindexer\u001b[0m\u001b[1;33m[\u001b[0m\u001b[1;33m~\u001b[0m\u001b[0mmask\u001b[0m\u001b[1;33m]\u001b[0m\u001b[1;33m\u001b[0m\u001b[1;33m\u001b[0m\u001b[0m\n\u001b[0;32m   6019\u001b[0m         \u001b[1;32mreturn\u001b[0m \u001b[0mself\u001b[0m\u001b[1;33m.\u001b[0m\u001b[0mdelete\u001b[0m\u001b[1;33m(\u001b[0m\u001b[0mindexer\u001b[0m\u001b[1;33m)\u001b[0m\u001b[1;33m\u001b[0m\u001b[1;33m\u001b[0m\u001b[0m\n",
      "\u001b[1;31mKeyError\u001b[0m: \"['date'] not found in axis\""
     ]
    }
   ],
   "source": [
    "train2.drop(['date'],inplace=True)"
   ]
  },
  {
   "cell_type": "code",
   "execution_count": 194,
   "metadata": {},
   "outputs": [
    {
     "data": {
      "text/plain": [
       "Index(['date', 'family', 'onpromotion', 'transactions', 'dayofweek_1',\n",
       "       'dayofweek_2', 'dayofweek_3', 'dayofweek_4', 'dayofweek_5',\n",
       "       'dayofweek_6',\n",
       "       ...\n",
       "       'cluster_11', 'cluster_12', 'cluster_13', 'cluster_14', 'cluster_15',\n",
       "       'cluster_16', 'cluster_17', 'locale_name_Ambato',\n",
       "       'holiday_type_Holiday', 'dcoilwtico'],\n",
       "      dtype='object', length=130)"
      ]
     },
     "execution_count": 194,
     "metadata": {},
     "output_type": "execute_result"
    }
   ],
   "source": [
    "list(test_t2.columns), test2.columns"
   ]
  },
  {
   "cell_type": "code",
   "execution_count": 199,
   "metadata": {},
   "outputs": [],
   "source": [
    "e = [v for v in list(test_t2.columns) if v not in list(train2.columns)]"
   ]
  },
  {
   "cell_type": "code",
   "execution_count": 200,
   "metadata": {},
   "outputs": [
    {
     "data": {
      "text/plain": [
       "['date']"
      ]
     },
     "execution_count": 200,
     "metadata": {},
     "output_type": "execute_result"
    }
   ],
   "source": [
    "e"
   ]
  },
  {
   "cell_type": "code",
   "execution_count": 188,
   "metadata": {},
   "outputs": [
    {
     "ename": "ValueError",
     "evalue": "Feature shape mismatch, expected: 169, got 130",
     "output_type": "error",
     "traceback": [
      "\u001b[1;31m---------------------------------------------------------------------------\u001b[0m",
      "\u001b[1;31mValueError\u001b[0m                                Traceback (most recent call last)",
      "\u001b[1;32m~\\AppData\\Local\\Temp/ipykernel_19640/537763131.py\u001b[0m in \u001b[0;36m<module>\u001b[1;34m\u001b[0m\n\u001b[1;32m----> 1\u001b[1;33m \u001b[0mmodel_xgb\u001b[0m\u001b[1;33m.\u001b[0m\u001b[0mpredict\u001b[0m\u001b[1;33m(\u001b[0m\u001b[0mtest_t2\u001b[0m\u001b[1;33m)\u001b[0m\u001b[1;33m\u001b[0m\u001b[1;33m\u001b[0m\u001b[0m\n\u001b[0m",
      "\u001b[1;32m~\\anaconda3\\lib\\site-packages\\xgboost\\sklearn.py\u001b[0m in \u001b[0;36mpredict\u001b[1;34m(self, X, output_margin, ntree_limit, validate_features, base_margin, iteration_range)\u001b[0m\n\u001b[0;32m   1047\u001b[0m         \u001b[1;32mif\u001b[0m \u001b[0mself\u001b[0m\u001b[1;33m.\u001b[0m\u001b[0m_can_use_inplace_predict\u001b[0m\u001b[1;33m(\u001b[0m\u001b[1;33m)\u001b[0m\u001b[1;33m:\u001b[0m\u001b[1;33m\u001b[0m\u001b[1;33m\u001b[0m\u001b[0m\n\u001b[0;32m   1048\u001b[0m             \u001b[1;32mtry\u001b[0m\u001b[1;33m:\u001b[0m\u001b[1;33m\u001b[0m\u001b[1;33m\u001b[0m\u001b[0m\n\u001b[1;32m-> 1049\u001b[1;33m                 predts = self.get_booster().inplace_predict(\n\u001b[0m\u001b[0;32m   1050\u001b[0m                     \u001b[0mdata\u001b[0m\u001b[1;33m=\u001b[0m\u001b[0mX\u001b[0m\u001b[1;33m,\u001b[0m\u001b[1;33m\u001b[0m\u001b[1;33m\u001b[0m\u001b[0m\n\u001b[0;32m   1051\u001b[0m                     \u001b[0miteration_range\u001b[0m\u001b[1;33m=\u001b[0m\u001b[0miteration_range\u001b[0m\u001b[1;33m,\u001b[0m\u001b[1;33m\u001b[0m\u001b[1;33m\u001b[0m\u001b[0m\n",
      "\u001b[1;32m~\\anaconda3\\lib\\site-packages\\xgboost\\core.py\u001b[0m in \u001b[0;36minplace_predict\u001b[1;34m(self, data, iteration_range, predict_type, missing, validate_features, base_margin, strict_shape)\u001b[0m\n\u001b[0;32m   2081\u001b[0m                 )\n\u001b[0;32m   2082\u001b[0m             \u001b[1;32mif\u001b[0m \u001b[0mlen\u001b[0m\u001b[1;33m(\u001b[0m\u001b[0mdata\u001b[0m\u001b[1;33m.\u001b[0m\u001b[0mshape\u001b[0m\u001b[1;33m)\u001b[0m \u001b[1;33m!=\u001b[0m \u001b[1;36m1\u001b[0m \u001b[1;32mand\u001b[0m \u001b[0mself\u001b[0m\u001b[1;33m.\u001b[0m\u001b[0mnum_features\u001b[0m\u001b[1;33m(\u001b[0m\u001b[1;33m)\u001b[0m \u001b[1;33m!=\u001b[0m \u001b[0mdata\u001b[0m\u001b[1;33m.\u001b[0m\u001b[0mshape\u001b[0m\u001b[1;33m[\u001b[0m\u001b[1;36m1\u001b[0m\u001b[1;33m]\u001b[0m\u001b[1;33m:\u001b[0m\u001b[1;33m\u001b[0m\u001b[1;33m\u001b[0m\u001b[0m\n\u001b[1;32m-> 2083\u001b[1;33m                 raise ValueError(\n\u001b[0m\u001b[0;32m   2084\u001b[0m                     \u001b[1;34mf\"Feature shape mismatch, expected: {self.num_features()}, \"\u001b[0m\u001b[1;33m\u001b[0m\u001b[1;33m\u001b[0m\u001b[0m\n\u001b[0;32m   2085\u001b[0m                     \u001b[1;34mf\"got {data.shape[1]}\"\u001b[0m\u001b[1;33m\u001b[0m\u001b[1;33m\u001b[0m\u001b[0m\n",
      "\u001b[1;31mValueError\u001b[0m: Feature shape mismatch, expected: 169, got 130"
     ]
    }
   ],
   "source": [
    "model_xgb.predict()"
   ]
  }
 ],
 "metadata": {
  "interpreter": {
   "hash": "65deba724cccb178c306804377a6b0dd7c50528951d4ddb0ff5bc0e49276543c"
  },
  "kernelspec": {
   "display_name": "Python 3.9.7 ('base')",
   "language": "python",
   "name": "python3"
  },
  "language_info": {
   "codemirror_mode": {
    "name": "ipython",
    "version": 3
   },
   "file_extension": ".py",
   "mimetype": "text/x-python",
   "name": "python",
   "nbconvert_exporter": "python",
   "pygments_lexer": "ipython3",
   "version": "3.9.7"
  },
  "orig_nbformat": 4
 },
 "nbformat": 4,
 "nbformat_minor": 2
}
