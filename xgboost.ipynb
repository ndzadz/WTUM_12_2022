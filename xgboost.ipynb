{
 "cells": [
  {
   "cell_type": "markdown",
   "metadata": {},
   "source": [
    "## Wczytanie bibliotek"
   ]
  },
  {
   "cell_type": "code",
   "execution_count": 121,
   "metadata": {},
   "outputs": [],
   "source": [
    "import numpy as np\n",
    "import pandas as pd\n",
    "import matplotlib.pyplot as plt\n",
    "import statsmodels\n",
    "import statsmodels.api as sm\n",
    "import statsmodels.formula.api as smf\n",
    "import datetime as dt\n",
    "import scipy.signal as ss\n",
    "import xgboost as xgb\n",
    "from sklearn.tree import DecisionTreeRegressor\n",
    "import group_lasso\n",
    "from sklearn.metrics import mean_squared_error\n",
    "import os"
   ]
  },
  {
   "cell_type": "markdown",
   "metadata": {},
   "source": [
    "## Ścieżka z modelami"
   ]
  },
  {
   "cell_type": "code",
   "execution_count": 58,
   "metadata": {},
   "outputs": [],
   "source": [
    "ROOT = \"C:/Users/ndzad/Dropbox/MINI/WTUM/Modele/\""
   ]
  },
  {
   "cell_type": "markdown",
   "metadata": {},
   "source": [
    "## Wczytanie zbiorów"
   ]
  },
  {
   "cell_type": "code",
   "execution_count": 194,
   "metadata": {},
   "outputs": [],
   "source": [
    "holidays_events = pd.read_csv(\"https://www.dropbox.com/s/bxyamlpevkiwwoq/holidays_events.csv?dl=1\")\n",
    "holidays_events[\"holiday_type\"] = holidays_events[\"type\"]\n",
    "holidays_events.drop([\"type\"],axis=1,inplace=True)\n",
    "oil = pd.read_csv(\"https://www.dropbox.com/s/l6ln0ztl4m0pw3a/oil.csv?dl=1\",parse_dates=['date'],index_col='date')\n",
    "oil2 = pd.read_csv(\"https://www.dropbox.com/s/l6ln0ztl4m0pw3a/oil.csv?dl=1\")\n",
    "sample_submission = pd.read_csv(\"https://www.dropbox.com/s/68jjl61x6u3klos/sample_submission.csv?dl=1\")\n",
    "stores = pd.read_csv(\"https://www.dropbox.com/s/lcxn6r9bs2exguq/stores.csv?dl=1\")\n",
    "test = pd.read_csv(\"https://www.dropbox.com/s/cvdo1gn7r5lu2uz/test.csv?dl=1\",index_col='id')\n",
    "train = pd.read_csv(\"https://www.dropbox.com/s/s8p2b5awnuqfk0d/train.csv?dl=1\",index_col='id')\n",
    "transactions = pd.read_csv(\"https://www.dropbox.com/s/92fij9bcwt0e0cj/transactions.csv?dl=1\")"
   ]
  },
  {
   "cell_type": "code",
   "execution_count": 71,
   "metadata": {},
   "outputs": [],
   "source": [
    "import warnings\n",
    "warnings.filterwarnings(\"ignore\")"
   ]
  },
  {
   "cell_type": "markdown",
   "metadata": {},
   "source": [
    "## Funkcje pomocnicze"
   ]
  },
  {
   "cell_type": "markdown",
   "metadata": {},
   "source": [
    "Funkcja przygotowująca dane objaśniające. Łączy zbiory i zmienia zmienne kategoryczne na zmienne numeryczna metodą One Hot Encoding, a także grupuje po dniu lub miesiącu."
   ]
  },
  {
   "cell_type": "code",
   "execution_count": 163,
   "metadata": {},
   "outputs": [
    {
     "data": {
      "text/html": [
       "<div>\n",
       "<style scoped>\n",
       "    .dataframe tbody tr th:only-of-type {\n",
       "        vertical-align: middle;\n",
       "    }\n",
       "\n",
       "    .dataframe tbody tr th {\n",
       "        vertical-align: top;\n",
       "    }\n",
       "\n",
       "    .dataframe thead th {\n",
       "        text-align: right;\n",
       "    }\n",
       "</style>\n",
       "<table border=\"1\" class=\"dataframe\">\n",
       "  <thead>\n",
       "    <tr style=\"text-align: right;\">\n",
       "      <th></th>\n",
       "      <th>store_nbr</th>\n",
       "      <th>city</th>\n",
       "      <th>state</th>\n",
       "      <th>type</th>\n",
       "      <th>cluster</th>\n",
       "    </tr>\n",
       "  </thead>\n",
       "  <tbody>\n",
       "    <tr>\n",
       "      <th>0</th>\n",
       "      <td>1</td>\n",
       "      <td>Quito</td>\n",
       "      <td>Pichincha</td>\n",
       "      <td>D</td>\n",
       "      <td>13</td>\n",
       "    </tr>\n",
       "    <tr>\n",
       "      <th>1</th>\n",
       "      <td>2</td>\n",
       "      <td>Quito</td>\n",
       "      <td>Pichincha</td>\n",
       "      <td>D</td>\n",
       "      <td>13</td>\n",
       "    </tr>\n",
       "    <tr>\n",
       "      <th>2</th>\n",
       "      <td>3</td>\n",
       "      <td>Quito</td>\n",
       "      <td>Pichincha</td>\n",
       "      <td>D</td>\n",
       "      <td>8</td>\n",
       "    </tr>\n",
       "    <tr>\n",
       "      <th>3</th>\n",
       "      <td>4</td>\n",
       "      <td>Quito</td>\n",
       "      <td>Pichincha</td>\n",
       "      <td>D</td>\n",
       "      <td>9</td>\n",
       "    </tr>\n",
       "    <tr>\n",
       "      <th>4</th>\n",
       "      <td>5</td>\n",
       "      <td>Santo Domingo</td>\n",
       "      <td>Santo Domingo de los Tsachilas</td>\n",
       "      <td>D</td>\n",
       "      <td>4</td>\n",
       "    </tr>\n",
       "  </tbody>\n",
       "</table>\n",
       "</div>"
      ],
      "text/plain": [
       "   store_nbr           city                           state type  cluster\n",
       "0          1          Quito                       Pichincha    D       13\n",
       "1          2          Quito                       Pichincha    D       13\n",
       "2          3          Quito                       Pichincha    D        8\n",
       "3          4          Quito                       Pichincha    D        9\n",
       "4          5  Santo Domingo  Santo Domingo de los Tsachilas    D        4"
      ]
     },
     "execution_count": 163,
     "metadata": {},
     "output_type": "execute_result"
    }
   ],
   "source": [
    "stores.head()"
   ]
  },
  {
   "cell_type": "code",
   "execution_count": 190,
   "metadata": {},
   "outputs": [],
   "source": [
    "def substraction(lst1, lst2):\n",
    "    lst3 = [value for value in lst1 if value not in lst2]\n",
    "    return lst3"
   ]
  },
  {
   "cell_type": "code",
   "execution_count": 191,
   "metadata": {},
   "outputs": [],
   "source": [
    "def przygotowanie_danych(df: pd.DataFrame, type, type_item):\n",
    "    \"\"\"\n",
    "    Funkcja łącząca zbiory i zmieniająca zmienne kategoryczne na zmienne numeryczne. Funkcja jest przewidziana\n",
    "    df - zbiór danych treningowych\n",
    "    type - dane sklepowe ('family') / dane rodzinne ('store_nbr')\n",
    "    type_item - konretny element zmiennej type np. dla type==\"family\" type_item==\"AUTOMOTIVE\"\n",
    "    \"\"\"\n",
    "    #Łaczymy z pozostałymi zbiorami\n",
    "\n",
    "    #Zbiór stores\n",
    "    df = df.merge(stores,how=\"left\",left_on=['store_nbr'],right_on=['store_nbr'])\n",
    "\n",
    "    #Zbiór transactions\n",
    "    df = df.merge(transactions,how=\"left\",left_on=['date','store_nbr'],right_on=['date','store_nbr'])\n",
    "\n",
    "    #Zbiór holidays_events\n",
    "    df = df.merge(holidays_events,how=\"left\",left_on=['date'],right_on=['date'])\n",
    "\n",
    "    #Dodanie oil\n",
    "    df = df.merge(oil2,how=\"left\",left_on=['date'],right_on=['date'])\n",
    "\n",
    "    #Interpolacja braków danych z oil\n",
    "    df.interpolate(method ='linear', limit_direction ='backward', inplace=True)\n",
    "\n",
    "    #Wybieramy family ze zbioru traningowego\n",
    "    df_fam = df.loc[(df[type]==type_item)]\n",
    "    \n",
    "    #Dodajemy zmienne na dzień tygodnia i na miesiąc\n",
    "    df_fam['dayofweek'] = pd.DatetimeIndex(df_fam['date']).dayofweek + 1\n",
    "    df_fam['month'] = pd.to_datetime(df_fam['date']).dt.month\n",
    "\n",
    "    #Usunięcie zmiennych, które nie będą zmieniane\n",
    "    df_fam.drop([type,\"description\",\"transferred\"],axis=1,inplace=True)\n",
    "    if type == \"family\":\n",
    "        type_opposite = \"store_nbr\"\n",
    "    elif type == \"store_nbr\":\n",
    "        type_opposite = \"family\"\n",
    "\n",
    "    #One Hot Encoding\n",
    "    df_fam = pd.get_dummies(df_fam,columns=[\"locale\",type_opposite,\"city\", \"state\", \"type\", \"cluster\",\"locale_name\", \"holiday_type\"],prefix=[\"locale\",type_opposite,\"city\", \"state\", \"type\", \"cluster\",\"locale_name\", \"holiday_type\"])\n",
    "    \n",
    "    #W zbiorze test jest tylko jeden miesiąc dlatego musimy zrobić technicnzy zabieg polegający na dodaniu kolumn z samymi zerami.\n",
    "    if 'sales' not in df_fam.columns:        \n",
    "        missing_cols = substraction(przygotowanie_danych(train,type,type_item).columns,df_fam.columns)\n",
    "        for i in missing_cols:\n",
    "            df_fam[i] = 0\n",
    "\n",
    "    return(df_fam)"
   ]
  },
  {
   "cell_type": "code",
   "execution_count": 4,
   "metadata": {},
   "outputs": [],
   "source": [
    "def dane_drzewo(df: pd.DataFrame, type, type_item):\n",
    "    df2 =df.copy()\n",
    "    df2[\"family\"], uniques=pd.factorize(df2[\"family\"])\n",
    "    df2[\"city\"], uniques=pd.factorize(df2[\"city\"])\n",
    "    df2[\"state\"], uniques=pd.factorize(df2[\"state\"])\n",
    "    df2[\"type\"], uniques=pd.factorize(df2[\"type\"])\n",
    "    df2[\"locale\"], uniques=pd.factorize(df2[\"locale\"])\n",
    "    df2[\"locale_name\"], uniques=pd.factorize(df2[\"locale_name\"])\n",
    "    df2[\"holiday_type\"], uniques=pd.factorize(df2[\"holiday_type\"])\n",
    "    df2.fillna(0,inplace=True)"
   ]
  },
  {
   "cell_type": "markdown",
   "metadata": {},
   "source": [
    "Podział danych na część treningową i walidacyjną."
   ]
  },
  {
   "cell_type": "code",
   "execution_count": 5,
   "metadata": {},
   "outputs": [],
   "source": [
    "def podzial(df: pd.DataFrame, date='2016-06-01'):\n",
    "    \"\"\"\n",
    "    Funkcja dzieli zbiór df na cześć treningową i walidacyjną względem date.\n",
    "    \"\"\"\n",
    "    train = df.loc[(df['date']<date)].drop([\"date\"],axis=1)\n",
    "    test = df.loc[(df['date']>=date)].reset_index(drop=True).drop([\"date\"],axis=1)\n",
    "    return(train,test)"
   ]
  },
  {
   "cell_type": "markdown",
   "metadata": {},
   "source": [
    "## Funkcje modelujące"
   ]
  },
  {
   "cell_type": "markdown",
   "metadata": {},
   "source": [
    "Model XGBoost"
   ]
  },
  {
   "cell_type": "code",
   "execution_count": 73,
   "metadata": {},
   "outputs": [],
   "source": [
    "def model_xgb(df1: pd.DataFrame,df2: pd.DataFrame, model_name: str):\n",
    "    \"\"\"\n",
    "    Funkcja tworzy model XGBoost na danych df1 i waliduje na danych df2.\n",
    "    \"\"\"\n",
    "    #Zbiory danych treningowy\n",
    "    X = df1.drop(['sales'],axis=1).copy()\n",
    "    Y = df1['sales'].copy()\n",
    "\n",
    "    #Zbiory danych walidacyjnych \n",
    "    X_val = df2.drop(['sales'],axis=1)\n",
    "    Y_val = df2['sales'].copy()\n",
    "\n",
    "    #Dopasowanie modelu\n",
    "    model = xgb.XGBRegressor()\n",
    "    model.fit(X,Y)\n",
    "    Y_pred = model.predict(X_val)\n",
    "\n",
    "    #RMSE - jakość dopasowania\n",
    "    RMSE = mean_squared_error(Y_val,Y_pred,squared=False)/(np.mean(Y_val))\n",
    "    print(\"Model: \", model_name, \" RMSE: \",RMSE)\n",
    "\n",
    "    sciezka = ROOT + model_name + \".txt\"\n",
    "    model.save_model(sciezka)\n",
    "    return(RMSE)"
   ]
  },
  {
   "cell_type": "markdown",
   "metadata": {},
   "source": [
    "Model regresji liniowej"
   ]
  },
  {
   "cell_type": "code",
   "execution_count": 7,
   "metadata": {},
   "outputs": [],
   "source": [
    "def model_ols(df1: pd.DataFrame,df2: pd.DataFrame, model_name: str):\n",
    "    \"\"\"\n",
    "    Funkcja tworzy model regresji liniowej metodą najmniejszych kwadratów na danych df1 i waliduje na danych df2.\n",
    "    \"\"\"\n",
    "    #Zbiory danych treningowy\n",
    "    X = df1.drop(['sales'],axis=1).copy()\n",
    "    Y = df1['sales'].copy()\n",
    "\n",
    "    #Zbiory danych walidacyjnych \n",
    "    X_val = df2.drop(['sales'],axis=1)\n",
    "    Y_val = df2['sales'].copy()\n",
    "\n",
    "    #Dopasowanie modelu\n",
    "    model = sm.OLS(Y,X).fit()\n",
    "    Y_pred = model.predict(X_val)\n",
    "\n",
    "    #RMSE - jakość dopasowania\n",
    "    RMSE = mean_squared_error(Y_val,Y_pred,squared=False)/(np.mean(Y_val))\n",
    "    print(\"Model: \", model_name, \" RMSE: \",RMSE)\n",
    "\n",
    "    sciezka = ROOT + model_name + \".txt\"\n",
    "    model.save_model(sciezka)\n",
    "    return(RMSE)"
   ]
  },
  {
   "cell_type": "markdown",
   "metadata": {},
   "source": [
    "Model drzewa regresyjnego"
   ]
  },
  {
   "cell_type": "code",
   "execution_count": 8,
   "metadata": {},
   "outputs": [],
   "source": [
    "def model_tree(df1: pd.DataFrame,df2: pd.DataFrame, model_name: str):\n",
    "    \"\"\"\n",
    "    Funkcja tworzy model drzewa regresyjnego na danych df1 i waliduje na danych df2.\n",
    "    \"\"\"\n",
    "    #Zbiory danych treningowy\n",
    "    X = df1.drop(['sales'],axis=1).copy()\n",
    "    Y = df1['sales'].copy()\n",
    "\n",
    "    #Zbiory danych walidacyjnych \n",
    "    X_val = df2.drop(['sales'],axis=1)\n",
    "    Y_val = df2['sales'].copy()\n",
    "\n",
    "    #Dopasowanie modelu\n",
    "    model = DecisionTreeRegressor().fit(X,Y)\n",
    "    Y_pred = model.predict(X_val)\n",
    "\n",
    "    #RMSE - jakość dopasowania\n",
    "    RMSE = mean_squared_error(Y_val,Y_pred,squared=False)/(np.mean(Y_val))\n",
    "    print(\"Model: \", model_name, \" RMSE: \",RMSE)\n",
    "\n",
    "    sciezka = ROOT + model_name + \".txt\"\n",
    "    model.save_model(sciezka)\n",
    "    return(RMSE)"
   ]
  },
  {
   "cell_type": "code",
   "execution_count": 16,
   "metadata": {},
   "outputs": [],
   "source": [
    "def model_group_lasso(df1,df2, model_name: str):\n",
    "    \"\"\"\n",
    "    Funkcja tworzy model grupowego lasso na danych df1 i waliduje na danych df2.\n",
    "    \"\"\"\n",
    "    #Zbiory danych treningowy\n",
    "    X = df1.drop(['sales'],axis=1).copy()\n",
    "    Y = df1['sales'].copy()\n",
    "\n",
    "    #Zbiory danych walidacyjnych \n",
    "    X_val = df2.drop(['sales'],axis=1)\n",
    "    Y_val = df2['sales'].copy()\n",
    "\n",
    "    #Dopasowanie modelu\n",
    "    model = group_lasso.GroupLasso(groups=[-1,-1, 1,  1,  1,  1,  1,  1,  1,  2,  2,  2,  2,  2,  2,  2,  2,  2,  2,\n",
    "        2,  2,  3,  3,  3,  4,  4,  4,  4,  4,  4,  4,  4,  4,  4,  4,  4,\n",
    "        4,  4,  4,  4,  4,  4,  4,  4,  4,  4,  4,  4,  4,  4,  4,  4,  4,\n",
    "        4,  4,  4,  4,  4,  4,  4,  4,  4,  4,  4,  4,  4,  4,  4,  4,  4,\n",
    "        4,  4,  4,  4,  4,  4,  4,  4,  5,  5,  5,  5,  5,  5,  5,  5,  5,\n",
    "        5,  5,  5,  5,  5,  5,  5,  5,  5,  5,  5,  5,  5,  6,  6,  6,  6,\n",
    "        6,  6,  6,  6,  6,  6,  6,  6,  6,  6,  6,  6,  7,  7,  7,  7,  7,\n",
    "        8,  8,  8,  8,  8,  8,  8,  8,  8,  8,  8,  8,  8,  8,  8,  8,  8,\n",
    "        9,  9,  9,  9,  9,  9,  9,  9,  9,  9,  9,  9,  9,  9,  9,  9,  9,\n",
    "        9,  9,  9,  9,  9,  9,  9, 10, 10, 10, 10, 10, 10,-1]).fit(X,Y)\n",
    "    Y_pred = model.predict(X_val)\n",
    "\n",
    "    #RMSE - jakość dopasowania\n",
    "    RMSE = mean_squared_error(Y_val,Y_pred,squared=False)/(np.mean(Y_val))\n",
    "    print(\"Model: \", model_name, \" RMSE: \",RMSE)\n",
    "\n",
    "    sciezka = ROOT + model_name + \".txt\"\n",
    "    model.save_model(sciezka)\n",
    "    return(RMSE)"
   ]
  },
  {
   "cell_type": "markdown",
   "metadata": {},
   "source": [
    "## Funckja do predykcji"
   ]
  },
  {
   "cell_type": "code",
   "execution_count": 150,
   "metadata": {},
   "outputs": [],
   "source": [
    "def predykcja (df: pd.DataFrame, model: xgb.XGBRegressor, folder: str):\n",
    "    \"\"\"\n",
    "    Funkcja wykonuje predykcje modelu model na zbiorze df i odpisuje w formacie .csv do folderu folder.\n",
    "    \"\"\"\n",
    "    mod2 = xgb.XGBRegressor()\n",
    "    mod2.load_model(ROOT+model+\".txt\")\n",
    "    df_res =df.copy()\n",
    "    pred = mod2.predict(df)\n",
    "    df_res[\"sales_pred\"] = pred\n",
    "    pred_csv = df_res.to_csv(folder+model+\".csv\",index=False)\n",
    "\n",
    "    return(pred_csv)"
   ]
  },
  {
   "cell_type": "markdown",
   "metadata": {},
   "source": [
    "## Modelowanie"
   ]
  },
  {
   "cell_type": "code",
   "execution_count": 72,
   "metadata": {},
   "outputs": [],
   "source": [
    "(train2,test2) = podzial(przygotowanie_danych(train,'family','AUTOMOTIVE'),'2016-06-01')"
   ]
  },
  {
   "cell_type": "code",
   "execution_count": 67,
   "metadata": {},
   "outputs": [
    {
     "name": "stdout",
     "output_type": "stream",
     "text": [
      "0.2647430624584262\n"
     ]
    }
   ],
   "source": [
    "RMSE_xgb = model_xgb(train2,test2,\"test\")"
   ]
  },
  {
   "cell_type": "code",
   "execution_count": 139,
   "metadata": {},
   "outputs": [],
   "source": [
    "(train3,test3) = podzial(przygotowanie_danych(train,'store_nbr',1),'2016-06-01')"
   ]
  },
  {
   "cell_type": "code",
   "execution_count": 30,
   "metadata": {},
   "outputs": [
    {
     "name": "stdout",
     "output_type": "stream",
     "text": [
      "0.6198961685176666\n"
     ]
    }
   ],
   "source": [
    "(model_xgb, RMSE_xgb) = model_xgb(train3,test3)"
   ]
  },
  {
   "cell_type": "markdown",
   "metadata": {},
   "source": [
    "## Model dla każdej rodziny. Modele odpisywane są do ROOT - ścieżki podanej na początku."
   ]
  },
  {
   "cell_type": "markdown",
   "metadata": {},
   "source": [
    "# Modelowanie"
   ]
  },
  {
   "cell_type": "code",
   "execution_count": 75,
   "metadata": {},
   "outputs": [],
   "source": [
    "families = np.array(train[\"family\"].unique())\n",
    "family_RMSEs = []"
   ]
  },
  {
   "cell_type": "code",
   "execution_count": 76,
   "metadata": {},
   "outputs": [
    {
     "name": "stdout",
     "output_type": "stream",
     "text": [
      "Model:  AUTOMOTIVE  RMSE:  0.6861653699517859\n",
      "Model:  BABY CARE  RMSE:  3.4948295658920756\n",
      "Model:  BEAUTY  RMSE:  0.7205881764239868\n",
      "Model:  BEVERAGES  RMSE:  0.31779410053589807\n",
      "Model:  BOOKS  RMSE:  3.994430513647246\n",
      "Model:  BREAD_BAKERY  RMSE:  0.2647430624584262\n",
      "Model:  CELEBRATION  RMSE:  1.170489191002666\n",
      "Model:  CLEANING  RMSE:  0.30010944377920146\n",
      "Model:  DAIRY  RMSE:  0.22848451644533507\n",
      "Model:  DELI  RMSE:  0.25711408962040094\n",
      "Model:  EGGS  RMSE:  0.5358559262506273\n",
      "Model:  FROZEN FOODS  RMSE:  1.183994333148742\n",
      "Model:  GROCERY I  RMSE:  0.34631785551534033\n",
      "Model:  GROCERY II  RMSE:  0.8921728224904292\n",
      "Model:  HARDWARE  RMSE:  1.2474795856009246\n",
      "Model:  HOME AND KITCHEN I  RMSE:  1.2312579643318984\n",
      "Model:  HOME AND KITCHEN II  RMSE:  1.395166723816384\n",
      "Model:  HOME APPLIANCES  RMSE:  2.027397594974563\n",
      "Model:  HOME CARE  RMSE:  0.3832039660347386\n",
      "Model:  LADIESWEAR  RMSE:  1.0003645281008315\n",
      "Model:  LAWN AND GARDEN  RMSE:  1.5703395588668807\n",
      "Model:  LINGERIE  RMSE:  1.6117339198708882\n",
      "Model:  LIQUOR,WINE,BEER  RMSE:  0.8290302418644222\n",
      "Model:  MAGAZINES  RMSE:  1.1906109680185522\n",
      "Model:  MEATS  RMSE:  1.628283326404564\n",
      "Model:  PERSONAL CARE  RMSE:  0.3576669348686532\n",
      "Model:  PET SUPPLIES  RMSE:  0.9998124164531473\n",
      "Model:  PLAYERS AND ELECTRONICS  RMSE:  0.9308743132629435\n",
      "Model:  POULTRY  RMSE:  0.45129454942475444\n",
      "Model:  PREPARED FOODS  RMSE:  0.39388841380161654\n",
      "Model:  PRODUCE  RMSE:  0.5170562314183849\n",
      "Model:  SCHOOL AND OFFICE SUPPLIES  RMSE:  4.2863020410426875\n",
      "Model:  SEAFOOD  RMSE:  0.46708949127934346\n"
     ]
    }
   ],
   "source": [
    "for i in families:\n",
    "    (train2,test2) = podzial(przygotowanie_danych(train,'family',i),'2016-06-01')\n",
    "    RMSE_xgb = model_xgb(train2,test2,i)\n",
    "    family_RMSEs.append(RMSE_xgb)"
   ]
  },
  {
   "cell_type": "markdown",
   "metadata": {},
   "source": [
    "# Predykcja"
   ]
  },
  {
   "cell_type": "code",
   "execution_count": 187,
   "metadata": {},
   "outputs": [],
   "source": [
    "time = dt.datetime.now().strftime(\"%Y_%m_%d-%H-%M-%S\")\n",
    "folder2 = ROOT+\"predict_family_\"+time+\"/\"\n",
    "os.makedirs(folder2)"
   ]
  },
  {
   "cell_type": "code",
   "execution_count": 193,
   "metadata": {},
   "outputs": [
    {
     "ename": "ValueError",
     "evalue": "Wrong number of items passed 0, placement implies 1",
     "output_type": "error",
     "traceback": [
      "\u001b[1;31m---------------------------------------------------------------------------\u001b[0m",
      "\u001b[1;31mKeyError\u001b[0m                                  Traceback (most recent call last)",
      "\u001b[1;32mc:\\Users\\ndzad\\anaconda3\\lib\\site-packages\\pandas\\core\\indexes\\base.py\u001b[0m in \u001b[0;36mget_loc\u001b[1;34m(self, key, method, tolerance)\u001b[0m\n\u001b[0;32m   3360\u001b[0m             \u001b[1;32mtry\u001b[0m\u001b[1;33m:\u001b[0m\u001b[1;33m\u001b[0m\u001b[1;33m\u001b[0m\u001b[0m\n\u001b[1;32m-> 3361\u001b[1;33m                 \u001b[1;32mreturn\u001b[0m \u001b[0mself\u001b[0m\u001b[1;33m.\u001b[0m\u001b[0m_engine\u001b[0m\u001b[1;33m.\u001b[0m\u001b[0mget_loc\u001b[0m\u001b[1;33m(\u001b[0m\u001b[0mcasted_key\u001b[0m\u001b[1;33m)\u001b[0m\u001b[1;33m\u001b[0m\u001b[1;33m\u001b[0m\u001b[0m\n\u001b[0m\u001b[0;32m   3362\u001b[0m             \u001b[1;32mexcept\u001b[0m \u001b[0mKeyError\u001b[0m \u001b[1;32mas\u001b[0m \u001b[0merr\u001b[0m\u001b[1;33m:\u001b[0m\u001b[1;33m\u001b[0m\u001b[1;33m\u001b[0m\u001b[0m\n",
      "\u001b[1;32mc:\\Users\\ndzad\\anaconda3\\lib\\site-packages\\pandas\\_libs\\index.pyx\u001b[0m in \u001b[0;36mpandas._libs.index.IndexEngine.get_loc\u001b[1;34m()\u001b[0m\n",
      "\u001b[1;32mc:\\Users\\ndzad\\anaconda3\\lib\\site-packages\\pandas\\_libs\\index.pyx\u001b[0m in \u001b[0;36mpandas._libs.index.IndexEngine.get_loc\u001b[1;34m()\u001b[0m\n",
      "\u001b[1;32mpandas\\_libs\\hashtable_class_helper.pxi\u001b[0m in \u001b[0;36mpandas._libs.hashtable.PyObjectHashTable.get_item\u001b[1;34m()\u001b[0m\n",
      "\u001b[1;32mpandas\\_libs\\hashtable_class_helper.pxi\u001b[0m in \u001b[0;36mpandas._libs.hashtable.PyObjectHashTable.get_item\u001b[1;34m()\u001b[0m\n",
      "\u001b[1;31mKeyError\u001b[0m: 'sales_pred'",
      "\nThe above exception was the direct cause of the following exception:\n",
      "\u001b[1;31mKeyError\u001b[0m                                  Traceback (most recent call last)",
      "\u001b[1;32mc:\\Users\\ndzad\\anaconda3\\lib\\site-packages\\pandas\\core\\frame.py\u001b[0m in \u001b[0;36m_set_item_mgr\u001b[1;34m(self, key, value)\u001b[0m\n\u001b[0;32m   3750\u001b[0m         \u001b[1;32mtry\u001b[0m\u001b[1;33m:\u001b[0m\u001b[1;33m\u001b[0m\u001b[1;33m\u001b[0m\u001b[0m\n\u001b[1;32m-> 3751\u001b[1;33m             \u001b[0mloc\u001b[0m \u001b[1;33m=\u001b[0m \u001b[0mself\u001b[0m\u001b[1;33m.\u001b[0m\u001b[0m_info_axis\u001b[0m\u001b[1;33m.\u001b[0m\u001b[0mget_loc\u001b[0m\u001b[1;33m(\u001b[0m\u001b[0mkey\u001b[0m\u001b[1;33m)\u001b[0m\u001b[1;33m\u001b[0m\u001b[1;33m\u001b[0m\u001b[0m\n\u001b[0m\u001b[0;32m   3752\u001b[0m         \u001b[1;32mexcept\u001b[0m \u001b[0mKeyError\u001b[0m\u001b[1;33m:\u001b[0m\u001b[1;33m\u001b[0m\u001b[1;33m\u001b[0m\u001b[0m\n",
      "\u001b[1;32mc:\\Users\\ndzad\\anaconda3\\lib\\site-packages\\pandas\\core\\indexes\\base.py\u001b[0m in \u001b[0;36mget_loc\u001b[1;34m(self, key, method, tolerance)\u001b[0m\n\u001b[0;32m   3362\u001b[0m             \u001b[1;32mexcept\u001b[0m \u001b[0mKeyError\u001b[0m \u001b[1;32mas\u001b[0m \u001b[0merr\u001b[0m\u001b[1;33m:\u001b[0m\u001b[1;33m\u001b[0m\u001b[1;33m\u001b[0m\u001b[0m\n\u001b[1;32m-> 3363\u001b[1;33m                 \u001b[1;32mraise\u001b[0m \u001b[0mKeyError\u001b[0m\u001b[1;33m(\u001b[0m\u001b[0mkey\u001b[0m\u001b[1;33m)\u001b[0m \u001b[1;32mfrom\u001b[0m \u001b[0merr\u001b[0m\u001b[1;33m\u001b[0m\u001b[1;33m\u001b[0m\u001b[0m\n\u001b[0m\u001b[0;32m   3364\u001b[0m \u001b[1;33m\u001b[0m\u001b[0m\n",
      "\u001b[1;31mKeyError\u001b[0m: 'sales_pred'",
      "\nDuring handling of the above exception, another exception occurred:\n",
      "\u001b[1;31mValueError\u001b[0m                                Traceback (most recent call last)",
      "\u001b[1;32m~\\AppData\\Local\\Temp/ipykernel_20036/4023532063.py\u001b[0m in \u001b[0;36m<module>\u001b[1;34m\u001b[0m\n\u001b[0;32m      5\u001b[0m     \u001b[0mmod2\u001b[0m\u001b[1;33m.\u001b[0m\u001b[0mload_model\u001b[0m\u001b[1;33m(\u001b[0m\u001b[0mROOT\u001b[0m\u001b[1;33m+\u001b[0m\u001b[0mi\u001b[0m\u001b[1;33m+\u001b[0m\u001b[1;34m\".txt\"\u001b[0m\u001b[1;33m)\u001b[0m\u001b[1;33m\u001b[0m\u001b[1;33m\u001b[0m\u001b[0m\n\u001b[0;32m      6\u001b[0m     \u001b[0mmod2\u001b[0m\u001b[1;33m.\u001b[0m\u001b[0mpredict\u001b[0m\u001b[1;33m(\u001b[0m\u001b[0mtest2\u001b[0m\u001b[1;33m.\u001b[0m\u001b[0mdrop\u001b[0m\u001b[1;33m(\u001b[0m\u001b[1;33m[\u001b[0m\u001b[1;34m\"sales\"\u001b[0m\u001b[1;33m]\u001b[0m\u001b[1;33m,\u001b[0m\u001b[0maxis\u001b[0m\u001b[1;33m=\u001b[0m\u001b[1;36m1\u001b[0m\u001b[1;33m)\u001b[0m\u001b[1;33m)\u001b[0m\u001b[1;33m\u001b[0m\u001b[1;33m\u001b[0m\u001b[0m\n\u001b[1;32m----> 7\u001b[1;33m     \u001b[0mpredykcja\u001b[0m\u001b[1;33m(\u001b[0m\u001b[0mt\u001b[0m\u001b[1;33m,\u001b[0m\u001b[0mi\u001b[0m\u001b[1;33m,\u001b[0m\u001b[0mfolder2\u001b[0m\u001b[1;33m)\u001b[0m\u001b[1;33m\u001b[0m\u001b[1;33m\u001b[0m\u001b[0m\n\u001b[0m",
      "\u001b[1;32m~\\AppData\\Local\\Temp/ipykernel_20036/1510287504.py\u001b[0m in \u001b[0;36mpredykcja\u001b[1;34m(df, model, folder)\u001b[0m\n\u001b[0;32m      7\u001b[0m     \u001b[0mdf_res\u001b[0m \u001b[1;33m=\u001b[0m\u001b[0mdf\u001b[0m\u001b[1;33m.\u001b[0m\u001b[0mcopy\u001b[0m\u001b[1;33m(\u001b[0m\u001b[1;33m)\u001b[0m\u001b[1;33m\u001b[0m\u001b[1;33m\u001b[0m\u001b[0m\n\u001b[0;32m      8\u001b[0m     \u001b[0mpred\u001b[0m \u001b[1;33m=\u001b[0m \u001b[0mmod2\u001b[0m\u001b[1;33m.\u001b[0m\u001b[0mpredict\u001b[0m\u001b[1;33m(\u001b[0m\u001b[0mdf\u001b[0m\u001b[1;33m)\u001b[0m\u001b[1;33m\u001b[0m\u001b[1;33m\u001b[0m\u001b[0m\n\u001b[1;32m----> 9\u001b[1;33m     \u001b[0mdf_res\u001b[0m\u001b[1;33m[\u001b[0m\u001b[1;34m\"sales_pred\"\u001b[0m\u001b[1;33m]\u001b[0m \u001b[1;33m=\u001b[0m \u001b[0mpred\u001b[0m\u001b[1;33m\u001b[0m\u001b[1;33m\u001b[0m\u001b[0m\n\u001b[0m\u001b[0;32m     10\u001b[0m     \u001b[0mpred_csv\u001b[0m \u001b[1;33m=\u001b[0m \u001b[0mdf_res\u001b[0m\u001b[1;33m.\u001b[0m\u001b[0mto_csv\u001b[0m\u001b[1;33m(\u001b[0m\u001b[0mfolder\u001b[0m\u001b[1;33m+\u001b[0m\u001b[0mmodel\u001b[0m\u001b[1;33m+\u001b[0m\u001b[1;34m\".csv\"\u001b[0m\u001b[1;33m,\u001b[0m\u001b[0mindex\u001b[0m\u001b[1;33m=\u001b[0m\u001b[1;32mFalse\u001b[0m\u001b[1;33m)\u001b[0m\u001b[1;33m\u001b[0m\u001b[1;33m\u001b[0m\u001b[0m\n\u001b[0;32m     11\u001b[0m \u001b[1;33m\u001b[0m\u001b[0m\n",
      "\u001b[1;32mc:\\Users\\ndzad\\anaconda3\\lib\\site-packages\\pandas\\core\\frame.py\u001b[0m in \u001b[0;36m__setitem__\u001b[1;34m(self, key, value)\u001b[0m\n\u001b[0;32m   3610\u001b[0m         \u001b[1;32melse\u001b[0m\u001b[1;33m:\u001b[0m\u001b[1;33m\u001b[0m\u001b[1;33m\u001b[0m\u001b[0m\n\u001b[0;32m   3611\u001b[0m             \u001b[1;31m# set column\u001b[0m\u001b[1;33m\u001b[0m\u001b[1;33m\u001b[0m\u001b[0m\n\u001b[1;32m-> 3612\u001b[1;33m             \u001b[0mself\u001b[0m\u001b[1;33m.\u001b[0m\u001b[0m_set_item\u001b[0m\u001b[1;33m(\u001b[0m\u001b[0mkey\u001b[0m\u001b[1;33m,\u001b[0m \u001b[0mvalue\u001b[0m\u001b[1;33m)\u001b[0m\u001b[1;33m\u001b[0m\u001b[1;33m\u001b[0m\u001b[0m\n\u001b[0m\u001b[0;32m   3613\u001b[0m \u001b[1;33m\u001b[0m\u001b[0m\n\u001b[0;32m   3614\u001b[0m     \u001b[1;32mdef\u001b[0m \u001b[0m_setitem_slice\u001b[0m\u001b[1;33m(\u001b[0m\u001b[0mself\u001b[0m\u001b[1;33m,\u001b[0m \u001b[0mkey\u001b[0m\u001b[1;33m:\u001b[0m \u001b[0mslice\u001b[0m\u001b[1;33m,\u001b[0m \u001b[0mvalue\u001b[0m\u001b[1;33m)\u001b[0m\u001b[1;33m:\u001b[0m\u001b[1;33m\u001b[0m\u001b[1;33m\u001b[0m\u001b[0m\n",
      "\u001b[1;32mc:\\Users\\ndzad\\anaconda3\\lib\\site-packages\\pandas\\core\\frame.py\u001b[0m in \u001b[0;36m_set_item\u001b[1;34m(self, key, value)\u001b[0m\n\u001b[0;32m   3795\u001b[0m                     \u001b[0mvalue\u001b[0m \u001b[1;33m=\u001b[0m \u001b[0mnp\u001b[0m\u001b[1;33m.\u001b[0m\u001b[0mtile\u001b[0m\u001b[1;33m(\u001b[0m\u001b[0mvalue\u001b[0m\u001b[1;33m,\u001b[0m \u001b[1;33m(\u001b[0m\u001b[0mlen\u001b[0m\u001b[1;33m(\u001b[0m\u001b[0mexisting_piece\u001b[0m\u001b[1;33m.\u001b[0m\u001b[0mcolumns\u001b[0m\u001b[1;33m)\u001b[0m\u001b[1;33m,\u001b[0m \u001b[1;36m1\u001b[0m\u001b[1;33m)\u001b[0m\u001b[1;33m)\u001b[0m\u001b[1;33m.\u001b[0m\u001b[0mT\u001b[0m\u001b[1;33m\u001b[0m\u001b[1;33m\u001b[0m\u001b[0m\n\u001b[0;32m   3796\u001b[0m \u001b[1;33m\u001b[0m\u001b[0m\n\u001b[1;32m-> 3797\u001b[1;33m         \u001b[0mself\u001b[0m\u001b[1;33m.\u001b[0m\u001b[0m_set_item_mgr\u001b[0m\u001b[1;33m(\u001b[0m\u001b[0mkey\u001b[0m\u001b[1;33m,\u001b[0m \u001b[0mvalue\u001b[0m\u001b[1;33m)\u001b[0m\u001b[1;33m\u001b[0m\u001b[1;33m\u001b[0m\u001b[0m\n\u001b[0m\u001b[0;32m   3798\u001b[0m \u001b[1;33m\u001b[0m\u001b[0m\n\u001b[0;32m   3799\u001b[0m     def _set_value(\n",
      "\u001b[1;32mc:\\Users\\ndzad\\anaconda3\\lib\\site-packages\\pandas\\core\\frame.py\u001b[0m in \u001b[0;36m_set_item_mgr\u001b[1;34m(self, key, value)\u001b[0m\n\u001b[0;32m   3752\u001b[0m         \u001b[1;32mexcept\u001b[0m \u001b[0mKeyError\u001b[0m\u001b[1;33m:\u001b[0m\u001b[1;33m\u001b[0m\u001b[1;33m\u001b[0m\u001b[0m\n\u001b[0;32m   3753\u001b[0m             \u001b[1;31m# This item wasn't present, just insert at end\u001b[0m\u001b[1;33m\u001b[0m\u001b[1;33m\u001b[0m\u001b[0m\n\u001b[1;32m-> 3754\u001b[1;33m             \u001b[0mself\u001b[0m\u001b[1;33m.\u001b[0m\u001b[0m_mgr\u001b[0m\u001b[1;33m.\u001b[0m\u001b[0minsert\u001b[0m\u001b[1;33m(\u001b[0m\u001b[0mlen\u001b[0m\u001b[1;33m(\u001b[0m\u001b[0mself\u001b[0m\u001b[1;33m.\u001b[0m\u001b[0m_info_axis\u001b[0m\u001b[1;33m)\u001b[0m\u001b[1;33m,\u001b[0m \u001b[0mkey\u001b[0m\u001b[1;33m,\u001b[0m \u001b[0mvalue\u001b[0m\u001b[1;33m)\u001b[0m\u001b[1;33m\u001b[0m\u001b[1;33m\u001b[0m\u001b[0m\n\u001b[0m\u001b[0;32m   3755\u001b[0m         \u001b[1;32melse\u001b[0m\u001b[1;33m:\u001b[0m\u001b[1;33m\u001b[0m\u001b[1;33m\u001b[0m\u001b[0m\n\u001b[0;32m   3756\u001b[0m             \u001b[0mself\u001b[0m\u001b[1;33m.\u001b[0m\u001b[0m_iset_item_mgr\u001b[0m\u001b[1;33m(\u001b[0m\u001b[0mloc\u001b[0m\u001b[1;33m,\u001b[0m \u001b[0mvalue\u001b[0m\u001b[1;33m)\u001b[0m\u001b[1;33m\u001b[0m\u001b[1;33m\u001b[0m\u001b[0m\n",
      "\u001b[1;32mc:\\Users\\ndzad\\anaconda3\\lib\\site-packages\\pandas\\core\\internals\\managers.py\u001b[0m in \u001b[0;36minsert\u001b[1;34m(self, loc, item, value)\u001b[0m\n\u001b[0;32m   1160\u001b[0m             \u001b[0mvalue\u001b[0m \u001b[1;33m=\u001b[0m \u001b[0mensure_block_shape\u001b[0m\u001b[1;33m(\u001b[0m\u001b[0mvalue\u001b[0m\u001b[1;33m,\u001b[0m \u001b[0mndim\u001b[0m\u001b[1;33m=\u001b[0m\u001b[0mself\u001b[0m\u001b[1;33m.\u001b[0m\u001b[0mndim\u001b[0m\u001b[1;33m)\u001b[0m\u001b[1;33m\u001b[0m\u001b[1;33m\u001b[0m\u001b[0m\n\u001b[0;32m   1161\u001b[0m \u001b[1;33m\u001b[0m\u001b[0m\n\u001b[1;32m-> 1162\u001b[1;33m         \u001b[0mblock\u001b[0m \u001b[1;33m=\u001b[0m \u001b[0mnew_block\u001b[0m\u001b[1;33m(\u001b[0m\u001b[0mvalues\u001b[0m\u001b[1;33m=\u001b[0m\u001b[0mvalue\u001b[0m\u001b[1;33m,\u001b[0m \u001b[0mndim\u001b[0m\u001b[1;33m=\u001b[0m\u001b[0mself\u001b[0m\u001b[1;33m.\u001b[0m\u001b[0mndim\u001b[0m\u001b[1;33m,\u001b[0m \u001b[0mplacement\u001b[0m\u001b[1;33m=\u001b[0m\u001b[0mslice\u001b[0m\u001b[1;33m(\u001b[0m\u001b[0mloc\u001b[0m\u001b[1;33m,\u001b[0m \u001b[0mloc\u001b[0m \u001b[1;33m+\u001b[0m \u001b[1;36m1\u001b[0m\u001b[1;33m)\u001b[0m\u001b[1;33m)\u001b[0m\u001b[1;33m\u001b[0m\u001b[1;33m\u001b[0m\u001b[0m\n\u001b[0m\u001b[0;32m   1163\u001b[0m \u001b[1;33m\u001b[0m\u001b[0m\n\u001b[0;32m   1164\u001b[0m         \u001b[1;32mfor\u001b[0m \u001b[0mblkno\u001b[0m\u001b[1;33m,\u001b[0m \u001b[0mcount\u001b[0m \u001b[1;32min\u001b[0m \u001b[0m_fast_count_smallints\u001b[0m\u001b[1;33m(\u001b[0m\u001b[0mself\u001b[0m\u001b[1;33m.\u001b[0m\u001b[0mblknos\u001b[0m\u001b[1;33m[\u001b[0m\u001b[0mloc\u001b[0m\u001b[1;33m:\u001b[0m\u001b[1;33m]\u001b[0m\u001b[1;33m)\u001b[0m\u001b[1;33m:\u001b[0m\u001b[1;33m\u001b[0m\u001b[1;33m\u001b[0m\u001b[0m\n",
      "\u001b[1;32mc:\\Users\\ndzad\\anaconda3\\lib\\site-packages\\pandas\\core\\internals\\blocks.py\u001b[0m in \u001b[0;36mnew_block\u001b[1;34m(values, placement, ndim, klass)\u001b[0m\n\u001b[0;32m   1935\u001b[0m \u001b[1;33m\u001b[0m\u001b[0m\n\u001b[0;32m   1936\u001b[0m     \u001b[0mvalues\u001b[0m\u001b[1;33m,\u001b[0m \u001b[0m_\u001b[0m \u001b[1;33m=\u001b[0m \u001b[0mextract_pandas_array\u001b[0m\u001b[1;33m(\u001b[0m\u001b[0mvalues\u001b[0m\u001b[1;33m,\u001b[0m \u001b[1;32mNone\u001b[0m\u001b[1;33m,\u001b[0m \u001b[0mndim\u001b[0m\u001b[1;33m)\u001b[0m\u001b[1;33m\u001b[0m\u001b[1;33m\u001b[0m\u001b[0m\n\u001b[1;32m-> 1937\u001b[1;33m     \u001b[0mcheck_ndim\u001b[0m\u001b[1;33m(\u001b[0m\u001b[0mvalues\u001b[0m\u001b[1;33m,\u001b[0m \u001b[0mplacement\u001b[0m\u001b[1;33m,\u001b[0m \u001b[0mndim\u001b[0m\u001b[1;33m)\u001b[0m\u001b[1;33m\u001b[0m\u001b[1;33m\u001b[0m\u001b[0m\n\u001b[0m\u001b[0;32m   1938\u001b[0m \u001b[1;33m\u001b[0m\u001b[0m\n\u001b[0;32m   1939\u001b[0m     \u001b[1;32mif\u001b[0m \u001b[0mklass\u001b[0m \u001b[1;32mis\u001b[0m \u001b[1;32mNone\u001b[0m\u001b[1;33m:\u001b[0m\u001b[1;33m\u001b[0m\u001b[1;33m\u001b[0m\u001b[0m\n",
      "\u001b[1;32mc:\\Users\\ndzad\\anaconda3\\lib\\site-packages\\pandas\\core\\internals\\blocks.py\u001b[0m in \u001b[0;36mcheck_ndim\u001b[1;34m(values, placement, ndim)\u001b[0m\n\u001b[0;32m   1977\u001b[0m             )\n\u001b[0;32m   1978\u001b[0m         \u001b[1;32mif\u001b[0m \u001b[0mlen\u001b[0m\u001b[1;33m(\u001b[0m\u001b[0mplacement\u001b[0m\u001b[1;33m)\u001b[0m \u001b[1;33m!=\u001b[0m \u001b[0mlen\u001b[0m\u001b[1;33m(\u001b[0m\u001b[0mvalues\u001b[0m\u001b[1;33m)\u001b[0m\u001b[1;33m:\u001b[0m\u001b[1;33m\u001b[0m\u001b[1;33m\u001b[0m\u001b[0m\n\u001b[1;32m-> 1979\u001b[1;33m             raise ValueError(\n\u001b[0m\u001b[0;32m   1980\u001b[0m                 \u001b[1;34mf\"Wrong number of items passed {len(values)}, \"\u001b[0m\u001b[1;33m\u001b[0m\u001b[1;33m\u001b[0m\u001b[0m\n\u001b[0;32m   1981\u001b[0m                 \u001b[1;34mf\"placement implies {len(placement)}\"\u001b[0m\u001b[1;33m\u001b[0m\u001b[1;33m\u001b[0m\u001b[0m\n",
      "\u001b[1;31mValueError\u001b[0m: Wrong number of items passed 0, placement implies 1"
     ]
    }
   ],
   "source": [
    "mod2 = xgb.XGBRegressor()\n",
    "for i in families:\n",
    "    t = przygotowanie_danych(test,\"family\",i)\n",
    "    t.drop([\"date\",\"sales\"],axis=1,inplace=True)\n",
    "    mod2.load_model(ROOT+i+\".txt\")\n",
    "    mod2.predict(test2.drop([\"sales\"],axis=1))\n",
    "    predykcja(t,i,folder2)"
   ]
  },
  {
   "cell_type": "markdown",
   "metadata": {},
   "source": [
    "## Model dla każdego sklepu. Modele odpisywane są do ROOT - ścieżki podanej na początku."
   ]
  },
  {
   "cell_type": "markdown",
   "metadata": {},
   "source": [
    "# Modelowanie"
   ]
  },
  {
   "cell_type": "code",
   "execution_count": 179,
   "metadata": {},
   "outputs": [],
   "source": [
    "stores_nbr = np.array(train[\"store_nbr\"].unique())\n",
    "stores_nbr.sort()\n",
    "stores_nbr_RMSEs = []"
   ]
  },
  {
   "cell_type": "code",
   "execution_count": 183,
   "metadata": {},
   "outputs": [
    {
     "name": "stdout",
     "output_type": "stream",
     "text": [
      "Model:  1  RMSE:  0.6198961685176666\n",
      "Model:  10  RMSE:  0.6463020048718221\n",
      "Model:  11  RMSE:  0.5876590283466362\n",
      "Model:  12  RMSE:  0.6673139636253224\n",
      "Model:  13  RMSE:  0.6578999813581597\n",
      "Model:  14  RMSE:  0.8180761879968397\n",
      "Model:  15  RMSE:  0.6871555087511951\n",
      "Model:  16  RMSE:  0.9739440071073853\n",
      "Model:  17  RMSE:  0.6157637579617721\n",
      "Model:  18  RMSE:  1.7489272545172623\n",
      "Model:  19  RMSE:  0.587862395866956\n",
      "Model:  2  RMSE:  1.2022746613558344\n",
      "Model:  20  RMSE:  2.65075713710132\n",
      "Model:  21  RMSE:  0.6844599029862802\n",
      "Model:  22  RMSE:  0.716448652343852\n",
      "Model:  23  RMSE:  0.5712708856222248\n",
      "Model:  24  RMSE:  0.7491045307930392\n",
      "Model:  25  RMSE:  1.6216000322047095\n",
      "Model:  26  RMSE:  1.3043151073088282\n",
      "Model:  27  RMSE:  0.6134293749978931\n",
      "Model:  28  RMSE:  0.5385021907096724\n",
      "Model:  29  RMSE:  0.5810905996616288\n",
      "Model:  3  RMSE:  0.6386473097009742\n",
      "Model:  30  RMSE:  1.0009509955777756\n",
      "Model:  31  RMSE:  0.6092144973726266\n",
      "Model:  32  RMSE:  2.292927827340676\n",
      "Model:  33  RMSE:  0.6774743581338424\n",
      "Model:  34  RMSE:  0.47148542043806\n",
      "Model:  35  RMSE:  1.5497650982978544\n",
      "Model:  36  RMSE:  0.5676639975318698\n",
      "Model:  37  RMSE:  0.5581387103527383\n",
      "Model:  38  RMSE:  0.7317758067485337\n",
      "Model:  39  RMSE:  1.6572875148750508\n",
      "Model:  4  RMSE:  0.6145011981779533\n",
      "Model:  40  RMSE:  0.706729761496836\n",
      "Model:  41  RMSE:  0.8106927710395097\n",
      "Model:  42  RMSE:  0.5830163934956116\n",
      "Model:  43  RMSE:  0.7258145375453657\n",
      "Model:  44  RMSE:  0.6067416858501318\n",
      "Model:  45  RMSE:  0.6553825312821754\n",
      "Model:  46  RMSE:  0.6098458242407953\n",
      "Model:  47  RMSE:  0.5830493522471398\n",
      "Model:  48  RMSE:  0.5901298907652046\n",
      "Model:  49  RMSE:  0.5997521718298418\n",
      "Model:  5  RMSE:  0.47481874747601677\n",
      "Model:  50  RMSE:  0.5441228466375491\n",
      "Model:  51  RMSE:  0.601962755322043\n",
      "Model:  52  RMSE:  4.749503195636127\n",
      "Model:  53  RMSE:  0.6410138896771191\n",
      "Model:  54  RMSE:  1.3890690232380756\n",
      "Model:  6  RMSE:  0.5299957297301355\n",
      "Model:  7  RMSE:  0.6251099201534559\n",
      "Model:  8  RMSE:  0.5682544798027046\n",
      "Model:  9  RMSE:  0.7249683913445258\n"
     ]
    }
   ],
   "source": [
    "for i in stores_nbr:\n",
    "    (train3,test3) = podzial(przygotowanie_danych(train,'store_nbr',i),'2016-06-01')\n",
    "    RMSE_xgb = model_xgb(train3,test3,str(i))\n",
    "    stores_nbr_RMSEs.append(RMSE_xgb)"
   ]
  },
  {
   "cell_type": "markdown",
   "metadata": {},
   "source": [
    "# Predykcja"
   ]
  },
  {
   "cell_type": "code",
   "execution_count": 184,
   "metadata": {},
   "outputs": [],
   "source": [
    "t = przygotowanie_danych(test,\"family\",\"AUTOMOTIVE\")\n",
    "t.drop([\"date\",\"sales\"],axis=1,inplace=True)\n",
    "time = dt.datetime.now().strftime(\"%Y_%m_%d-%H-%M-%S\")\n",
    "folder2 = ROOT+\"predict_store_nbr_\"+time+\"/\"\n",
    "os.makedirs(folder2)"
   ]
  },
  {
   "cell_type": "code",
   "execution_count": 185,
   "metadata": {},
   "outputs": [],
   "source": [
    "mod2 = xgb.XGBRegressor()\n",
    "for i in stores_nbr:\n",
    "    mod2.load_model(ROOT+i+\".txt\")\n",
    "    mod2.predict(test2.drop([\"sales\"],axis=1))\n",
    "    predykcja(t,i,folder2)"
   ]
  },
  {
   "cell_type": "markdown",
   "metadata": {},
   "source": [
    "- Outliery (zrobione)\n",
    "- Grupowanie po family,typie sklep (uśrednienie sprzedaży po dacie)\n",
    "- Agregacja i predykcja na miesiąc "
   ]
  }
 ],
 "metadata": {
  "interpreter": {
   "hash": "fbce44053a392e2d3acfeeaf9c14acc950329011ff8566e096397dd8c7fd702a"
  },
  "kernelspec": {
   "display_name": "Python 3.9.7 ('base')",
   "language": "python",
   "name": "python3"
  },
  "language_info": {
   "codemirror_mode": {
    "name": "ipython",
    "version": 3
   },
   "file_extension": ".py",
   "mimetype": "text/x-python",
   "name": "python",
   "nbconvert_exporter": "python",
   "pygments_lexer": "ipython3",
   "version": "3.9.7"
  },
  "orig_nbformat": 4
 },
 "nbformat": 4,
 "nbformat_minor": 2
}
